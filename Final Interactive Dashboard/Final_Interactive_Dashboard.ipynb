{
 "cells": [
  {
   "cell_type": "code",
   "execution_count": 1,
   "metadata": {},
   "outputs": [],
   "source": [
    "import numpy as np\n",
    "import pandas as pd\n",
    "import matplotlib.dates as mdates\n",
    "import seaborn as sns\n",
    "import matplotlib.pyplot as plt"
   ]
  },
  {
   "cell_type": "code",
   "execution_count": 2,
   "metadata": {},
   "outputs": [],
   "source": [
    "import ipywidgets as widgets\n",
    "style = {'description_width': 'initial'}\n",
    "\n",
    "#Creating lists for Unique UCs, Words, East/West Universities, and for ALL universities\n",
    "unique_ucs = ['UC Berkeley', 'UCLA', 'UC San Diego','UC Davis','UC Irvine','UC Santa Barbara', 'UC Riverside','UC Merced', 'UC Santa Cruz']\n",
    "unique_words = ['Death','Failure','Help','Afraid', 'Anxiety', 'Scared','Lonely','Stressed','Happy','Good','Depressed']\n",
    "unique_east =  ['Cornell','Harvard','NYU','MIT', 'Yale','Princeton']\n",
    "unique_west = ['UC Berkeley', 'UCLA', 'UC San Diego','UC Davis','UC Irvine','UC Santa Barbara', 'UC Riverside','UC Merced', 'UC Santa Cruz']\n",
    "unique_all = ['UC Berkeley', 'UCLA', 'UC San Diego', 'UC Merced',\n",
    "       'UC Santa Cruz', 'UC Santa Barbara', 'UC Riverside', 'UC Davis',\n",
    "       'UC Irvine', 'Stanford', 'MIT', 'Yale', 'Princeton', 'Cornell',\n",
    "       'Harvard', 'NYU']\n",
    "\n",
    "#Creating list of two results of TextBlob ML Sentiment Scoring\n",
    "score_names = ['Polarity', 'Subjectivity']\n",
    "\n",
    "from ipywidgets import Layout\n",
    "\n",
    "#Creating Widgets for East Universities (can select multiple)\n",
    "eastuniversity = widgets.SelectMultiple(\n",
    "    options =unique_east,\n",
    "    value = ['Cornell','Harvard','NYU','MIT'],\n",
    "    #rows=10,\n",
    "    description='East Coast',\n",
    "    disabled=False,\n",
    "    layout = Layout(width='50%', height='80px')\n",
    ")\n",
    "\n",
    "#Creating Widgets for UCs (can select multiple)\n",
    "university = widgets.SelectMultiple(\n",
    "    options =['UC Berkeley', 'UCLA', 'UC San Diego','UC Davis','UC Irvine','UC Santa Barbara', 'UC Riverside','UC Merced', 'UC Santa Cruz'],\n",
    "    value = ['UC Berkeley', 'UCLA', 'UC San Diego','UC Davis','UC Irvine','UC Santa Barbara', 'UC Riverside','UC Merced', 'UC Santa Cruz'],\n",
    "    #rows=10,\n",
    "    description='UC',\n",
    "    disabled=False,\n",
    "    layout = Layout(width='50%', height='80px')\n",
    ")\n",
    "\n",
    "#Creating Widgets for TextBlob Results\n",
    "scores = widgets.SelectMultiple(\n",
    "    options = ['Polarity', 'Subjectivity'],\n",
    "    value = ['Polarity', 'Subjectivity'],\n",
    "    #rows=10,\n",
    "    description='Score Type',\n",
    "    disabled=False,\n",
    "    layout = Layout(width='50%', height='80px')\n",
    ")\n",
    "\n",
    "#Creating Widgets for All Universities (can select multiple)\n",
    "all_universities = widgets.SelectMultiple(\n",
    "    options = ['UC Berkeley', 'UCLA', 'UC San Diego', 'UC Merced',\n",
    "       'UC Santa Cruz', 'UC Santa Barbara', 'UC Riverside', 'UC Davis',\n",
    "       'UC Irvine', 'Stanford', 'MIT', 'Yale', 'Princeton', 'Cornell',\n",
    "       'Harvard', 'NYU'],\n",
    "    value = ['UC Berkeley', 'UCLA', 'UC San Diego', 'UC Merced',\n",
    "       'UC Santa Cruz', 'UC Santa Barbara', 'UC Riverside', 'UC Davis',\n",
    "       'UC Irvine', 'Stanford', 'MIT', 'Yale', 'Princeton', 'Cornell',\n",
    "       'Harvard', 'NYU'],\n",
    "    #rows=10,\n",
    "    description='University Name',\n",
    "    disabled=False,\n",
    "    layout = Layout(width='50%', height='80px')\n",
    ")\n",
    "\n",
    "#Creating Widgets for Words (can select multiple)\n",
    "words = widgets.SelectMultiple(\n",
    "    options = unique_words,\n",
    "    value = ['Death','Failure','Help'],\n",
    "    description='Mental Health Keyword',\n",
    "    disabled=False,\n",
    "    style=style,\n",
    "    layout = Layout(width='50%', height='80px')\n",
    ")\n",
    "from ipywidgets import interact, interact_manual"
   ]
  },
  {
   "cell_type": "markdown",
   "metadata": {},
   "source": [
    "## Explore each UC Individually"
   ]
  },
  {
   "cell_type": "code",
   "execution_count": 3,
   "metadata": {},
   "outputs": [
    {
     "data": {
      "application/vnd.jupyter.widget-view+json": {
       "model_id": "63be6e3dcbaf43628872ca647df4b087",
       "version_major": 2,
       "version_minor": 0
      },
      "text/plain": [
       "interactive(children=(Dropdown(description='University', options=('UC Berkeley', 'UCLA', 'UC San Diego', 'UC D…"
      ]
     },
     "metadata": {},
     "output_type": "display_data"
    }
   ],
   "source": [
    "@interact_manual\n",
    "#Function to create interactive plots to analyze each UC individually\n",
    "def exploreUCdata(University = unique_ucs, Word = unique_words):\n",
    "    df = pd.read_csv('ucuniversity.csv')\n",
    "    df = df.set_index('Publish Date')\n",
    "    fig, ax = plt.subplots(figsize=(18,8))\n",
    "    df1 = df.loc[df['University'] == University]\n",
    "    ax.plot(df1[Word], label= University);\n",
    "    fig.autofmt_xdate();\n",
    "    ax.fmt_xdata = mdates.DateFormatter('%Y-%m-%d');\n",
    "    ax.set_title(Word + \" \" + 'Frequency Per UC');\n",
    "    ax.legend(loc='upper right');"
   ]
  },
  {
   "cell_type": "markdown",
   "metadata": {},
   "source": [
    "## Compare UCs"
   ]
  },
  {
   "cell_type": "code",
   "execution_count": 4,
   "metadata": {},
   "outputs": [
    {
     "data": {
      "application/vnd.jupyter.widget-view+json": {
       "model_id": "8cbd668caed94766a832fc65148ff587",
       "version_major": 2,
       "version_minor": 0
      },
      "text/plain": [
       "interactive(children=(SelectMultiple(description='UC', index=(0, 1, 2, 3, 4, 5, 6, 7, 8), layout=Layout(height…"
      ]
     },
     "metadata": {},
     "output_type": "display_data"
    }
   ],
   "source": [
    "@interact_manual\n",
    "#Function to create interactive plots to compare various UCs\n",
    "def UCcompare(University = university, Word = unique_words):\n",
    "    df = pd.read_csv('ucuniversity.csv')\n",
    "    df = df.set_index('Publish Date')\n",
    "    fig, ax = plt.subplots(figsize=(18,8))\n",
    "    for i in np.arange(len(University)):\n",
    "        df1 = df.loc[df['University'] == University[i]]\n",
    "        ax.plot(df1[Word], label= University[i]);\n",
    "    ax.set_title(Word + \" \" + 'Frequency Per UC');\n",
    "    fig.autofmt_xdate();\n",
    "    ax.fmt_xdata = mdates.DateFormatter('%Y-%m-%d');\n",
    "    ax.legend(loc='upper right');"
   ]
  },
  {
   "cell_type": "markdown",
   "metadata": {},
   "source": [
    "## East Coast Universities"
   ]
  },
  {
   "cell_type": "code",
   "execution_count": 5,
   "metadata": {},
   "outputs": [
    {
     "data": {
      "application/vnd.jupyter.widget-view+json": {
       "model_id": "7c39933106bd422f96d1f45695e5db47",
       "version_major": 2,
       "version_minor": 0
      },
      "text/plain": [
       "interactive(children=(SelectMultiple(description='East Coast', index=(0, 1, 2, 3), layout=Layout(height='80px'…"
      ]
     },
     "metadata": {},
     "output_type": "display_data"
    }
   ],
   "source": [
    "@interact_manual\n",
    "#Function to create interactive plots to various East Coast Universities\n",
    "def Eastcompare(University = eastuniversity, Word = unique_words):\n",
    "    df = pd.read_csv('eastuniversity.csv')\n",
    "    df = df.set_index('Publish Date')\n",
    "    fig, ax = plt.subplots(figsize=(18,8))\n",
    "    for i in np.arange(len(University)):\n",
    "        df1 = df.loc[df['University'] == University[i]]\n",
    "        ax.plot(df1[Word], label= University[i]);\n",
    "    ax.set_title(Word + \" \" + 'Frequency Per East Coast University');\n",
    "    fig.autofmt_xdate();\n",
    "    ax.fmt_xdata = mdates.DateFormatter('%Y-%m-%d');\n",
    "    ax.legend(loc='upper right');"
   ]
  },
  {
   "cell_type": "markdown",
   "metadata": {},
   "source": [
    "## West vs. East Coast"
   ]
  },
  {
   "cell_type": "code",
   "execution_count": 6,
   "metadata": {
    "scrolled": true
   },
   "outputs": [
    {
     "data": {
      "application/vnd.jupyter.widget-view+json": {
       "model_id": "ee7cd9cbd96f43a08ba9c297a1e16aa4",
       "version_major": 2,
       "version_minor": 0
      },
      "text/plain": [
       "interactive(children=(Dropdown(description='West', options=('UC Berkeley', 'UCLA', 'UC San Diego', 'UC Davis',…"
      ]
     },
     "metadata": {},
     "output_type": "display_data"
    }
   ],
   "source": [
    "@interact_manual\n",
    "#Function to create interactive plots to analyze West vs. East Coast Universities\n",
    "def westeastcompare(West = unique_west, East = unique_east, Word = unique_words):\n",
    "    df = pd.read_csv('alluniversities.csv')\n",
    "    df = df.set_index('Publish Date')\n",
    "    fig, ax = plt.subplots(figsize=(18,8))\n",
    "    \n",
    "    df1 = df.loc[df['University'] == West]\n",
    "    df2 = df.loc[df['University'] == East]\n",
    "    \n",
    "    ax.plot(df1[Word], label= West);\n",
    "    ax.plot(df2[Word], label= East);\n",
    "    ax.set_title(Word + \" \" + 'Frequency for West/East Coast Universities');\n",
    "    fig.autofmt_xdate();\n",
    "    ax.fmt_xdata = mdates.DateFormatter('%Y-%m-%d');\n",
    "    ax.legend(loc='upper right');"
   ]
  },
  {
   "cell_type": "markdown",
   "metadata": {},
   "source": [
    "## Polarity & Subjectivity Scores"
   ]
  },
  {
   "cell_type": "code",
   "execution_count": 7,
   "metadata": {},
   "outputs": [
    {
     "data": {
      "application/vnd.jupyter.widget-view+json": {
       "model_id": "fba63223ff3c423a965d0d959533fdb2",
       "version_major": 2,
       "version_minor": 0
      },
      "text/plain": [
       "interactive(children=(Dropdown(description='University', options=('UC Berkeley', 'UCLA', 'UC San Diego', 'UC M…"
      ]
     },
     "metadata": {},
     "output_type": "display_data"
    }
   ],
   "source": [
    "@interact_manual\n",
    "#Function to create interactive plots to analyze Polarity scores of each university over time\n",
    "def exploreScoreData(University = unique_all):\n",
    "    df = pd.read_csv('allunipolarity.csv')\n",
    "    df[\"Publish Date\"] = pd.to_datetime(df[\"Publish Date\"]).astype('datetime64[M]')\n",
    "    df = df.loc[df[\"University\"] == University]\n",
    "    g = sns.lineplot(data=df, x=\"Publish Date\", y=\"Polarity\")\n",
    "    plt.xticks(rotation=30)\n",
    "    plt.tight_layout()"
   ]
  },
  {
   "cell_type": "code",
   "execution_count": 8,
   "metadata": {},
   "outputs": [
    {
     "data": {
      "application/vnd.jupyter.widget-view+json": {
       "model_id": "415c7004ac3b484ba0bfe154452de5e4",
       "version_major": 2,
       "version_minor": 0
      },
      "text/plain": [
       "interactive(children=(Dropdown(description='University', options=('UC Berkeley', 'UCLA', 'UC San Diego', 'UC M…"
      ]
     },
     "metadata": {},
     "output_type": "display_data"
    }
   ],
   "source": [
    "@interact_manual\n",
    "#Function to create interactive plots to analyze Subjectivity scores of each university over time\n",
    "def exploreScoreData(University = unique_all):\n",
    "    df = pd.read_csv('allunipolarity.csv')\n",
    "    df[\"Publish Date\"] = pd.to_datetime(df[\"Publish Date\"]).astype('datetime64[M]')\n",
    "    df = df.loc[df[\"University\"] == University]\n",
    "    g = sns.lineplot(data=df, x=\"Publish Date\", y=\"Subjectivity\", color=\"red\")\n",
    "    plt.xticks(rotation=30)\n",
    "    plt.tight_layout()"
   ]
  },
  {
   "cell_type": "code",
   "execution_count": 9,
   "metadata": {},
   "outputs": [],
   "source": [
    "polaritydf = pd.read_csv('allunipolarity.csv')"
   ]
  },
  {
   "cell_type": "code",
   "execution_count": 10,
   "metadata": {},
   "outputs": [
    {
     "data": {
      "image/png": "[encoded data removed]",
      "text/plain": [
       "<Figure size 720x432 with 1 Axes>"
      ]
     },
     "metadata": {},
     "output_type": "display_data"
    }
   ],
   "source": [
    "#Pie Chart of total number of comments to see which school has more users\n",
    "data = polaritydf.groupby(\"University\")[\"Total No. of Comments\"].sum().sort_values(ascending=False).head(13)\n",
    "pie, ax = plt.subplots(figsize=[10,6])\n",
    "labels = data.keys()\n",
    "plt.pie(x=data, autopct=\"%.1f%%\", labels=labels, pctdistance=0.5)\n",
    "plt.title(\"Total Number of Comments by School\", fontsize=14);"
   ]
  },
  {
   "cell_type": "code",
   "execution_count": null,
   "metadata": {},
   "outputs": [],
   "source": []
  },
  {
   "cell_type": "code",
   "execution_count": null,
   "metadata": {},
   "outputs": [],
   "source": []
  }
 ],
 "metadata": {
  "kernelspec": {
   "display_name": "Python 3",
   "language": "python",
   "name": "python3"
  },
  "language_info": {
   "codemirror_mode": {
    "name": "ipython",
    "version": 3
   },
   "file_extension": ".py",
   "mimetype": "text/x-python",
   "name": "python",
   "nbconvert_exporter": "python",
   "pygments_lexer": "ipython3",
   "version": "3.8.8"
  }
 },
 "nbformat": 4,
 "nbformat_minor": 4
}
